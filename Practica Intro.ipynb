{
 "cells": [
  {
   "cell_type": "markdown",
   "metadata": {},
   "source": [
    "<center> <h1> Práctica de Intro a Frontend </h1> </center>\n",
    "\n",
    "## Descripción de la solicitud del proyecto:\n",
    " \n",
    "**Caso: Abogabot Descripción:**\n",
    "\n",
    "- Es un despacho de abogados que quiere automatizar las demandas de sus clientes, esto lo harán a traves de una página web llenando un formulario.\n",
    "\n",
    "- Al momento de llenar el formulario se manda al proceso de pago para finalizar la transacción.\n",
    "\n",
    "- Para dar seguimiento a su demanda, el cliente crea una cuenta en la plataforma y verá el seguimiento de cada una de las actualizaciones del proceso legal.\n",
    "\n",
    "- El administrador del sitio recbe la notificación de una nueva demanda y con los datos llenados del formulario se crea automaticamente el documento legal en formato word para empezar el proceso.\n",
    "\n",
    "- El administrador recibe el pago y debe de ser capaz de verlo en un dashboard para ver la cantidad de ingresos recibidos.\n",
    "\n",
    "- El administrador actualiza el proceso de la demanda y agrega comentarios en cada paso del proceso.\n",
    "\n",
    "- Al usuario le llegan correos de notificación para saber el avance de su proceso.\n",
    "\n",
    "- La página debe de ser responsive para poderla ver desde el celular.\n",
    "\n",
    "- La preferncia de colores del cliente es azul marino y blanco, pero acepta propuestas."
   ]
  }
 ],
 "metadata": {
  "interpreter": {
   "hash": "5f6227dd9e9e868107fb3c1114210844412e6c15a282b810619744ffd1febba0"
  },
  "kernelspec": {
   "display_name": "Python 3.8.10 32-bit",
   "language": "python",
   "name": "python3"
  },
  "language_info": {
   "name": "python",
   "version": "3.8.10"
  },
  "orig_nbformat": 4
 },
 "nbformat": 4,
 "nbformat_minor": 2
}
