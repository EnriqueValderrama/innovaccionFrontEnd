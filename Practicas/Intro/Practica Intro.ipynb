{
 "cells": [
  {
   "cell_type": "markdown",
   "metadata": {},
   "source": [
    "# Práctica de Intro a Frontend \n",
    " \n",
    "## Descripción de la solicitud del proyecto:\n",
    " \n",
    "**Caso: Abogabot Descripción:**\n",
    "\n",
    "- Es un despacho de abogados que quiere automatizar las demandas de sus clientes, esto lo harán a traves de una página web llenando un formulario.\n",
    "\n",
    "- Al momento de llenar el formulario se manda al proceso de pago para finalizar la transacción.\n",
    "\n",
    "- Para dar seguimiento a su demanda, el cliente crea una cuenta en la plataforma y verá el seguimiento de cada una de las actualizaciones del proceso legal.\n",
    "\n",
    "- El administrador del sitio recbe la notificación de una nueva demanda y con los datos llenados del formulario se crea automaticamente el documento legal en formato word para empezar el proceso.\n",
    "\n",
    "- El administrador recibe el pago y debe de ser capaz de verlo en un dashboard para ver la cantidad de ingresos recibidos.\n",
    "\n",
    "- El administrador actualiza el proceso de la demanda y agrega comentarios en cada paso del proceso.\n",
    "\n",
    "- Al usuario le llegan correos de notificación para saber el avance de su proceso.\n",
    "\n",
    "- La página debe de ser responsive para poderla ver desde el celular.\n",
    "\n",
    "- La preferncia de colores del cliente es azul marino y blanco, pero acepta propuestas."
   ]
  },
  {
   "cell_type": "markdown",
   "metadata": {},
   "source": [
    "## Requerimientos de software\n",
    "\n",
    "A continuacion agrego el alchivo de [Requerimientos de Software](./Documentos/requqerimientos.docx)"
   ]
  },
  {
   "cell_type": "markdown",
   "metadata": {},
   "source": [
    "## Buyer persona\n",
    "\n",
    "A continuación agrego el archivo del [Buyer Persona](./Documentos/persona.pdf)"
   ]
  },
  {
   "cell_type": "markdown",
   "metadata": {},
   "source": [
    "## Publico objetivo \n",
    "\n",
    "![](./imagenes/target.PNG)"
   ]
  },
  {
   "cell_type": "markdown",
   "metadata": {},
   "source": [
    "## [Wireframe](https://miro.com/app/board/uXjVOHvIxQE=/?invite_link_id=492966681729)\n",
    "\n",
    "![](./imagenes/wireframe.PNG)"
   ]
  },
  {
   "cell_type": "markdown",
   "metadata": {},
   "source": [
    "## [UI](https://miro.com/app/board/uXjVOHvh2Ng=/?invite_link_id=743233338047)\n",
    "\n",
    "![](./imagenes/ui1.PNG)\n",
    "![](./imagenes/ui2.PNG)\n",
    "![](./imagenes/ui3.PNG)\n",
    "![](./imagenes/ui4.PNG)"
   ]
  }
 ],
 "metadata": {
  "interpreter": {
   "hash": "5f6227dd9e9e868107fb3c1114210844412e6c15a282b810619744ffd1febba0"
  },
  "kernelspec": {
   "display_name": "Python 3.8.10 32-bit",
   "language": "python",
   "name": "python3"
  },
  "language_info": {
   "name": "python",
   "version": "3.8.10"
  },
  "orig_nbformat": 4
 },
 "nbformat": 4,
 "nbformat_minor": 2
}
